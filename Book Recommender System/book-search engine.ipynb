{
 "cells": [
  {
   "cell_type": "markdown",
   "metadata": {},
   "source": [
    "# Book Search Engine"
   ]
  },
  {
   "cell_type": "code",
   "execution_count": 47,
   "metadata": {
    "execution": {
     "iopub.execute_input": "2025-02-28T18:12:43.834457Z",
     "iopub.status.busy": "2025-02-28T18:12:43.834118Z",
     "iopub.status.idle": "2025-02-28T18:12:43.838381Z",
     "shell.execute_reply": "2025-02-28T18:12:43.837663Z",
     "shell.execute_reply.started": "2025-02-28T18:12:43.834428Z"
    },
    "trusted": true
   },
   "outputs": [],
   "source": [
    "import pandas as pd\n",
    "import numpy as np\n",
    "import re\n",
    "\n",
    "from sklearn.feature_extraction.text import TfidfVectorizer\n",
    "from sklearn.metrics.pairwise import cosine_similarity\n",
    "\n",
    "import ipywidgets as widgets\n",
    "from IPython.display import display \n"
   ]
  },
  {
   "cell_type": "code",
   "execution_count": 48,
   "metadata": {
    "execution": {
     "iopub.execute_input": "2025-02-28T18:12:44.665168Z",
     "iopub.status.busy": "2025-02-28T18:12:44.664917Z",
     "iopub.status.idle": "2025-02-28T18:12:50.448160Z",
     "shell.execute_reply": "2025-02-28T18:12:50.447345Z",
     "shell.execute_reply.started": "2025-02-28T18:12:44.665149Z"
    },
    "trusted": true
   },
   "outputs": [
    {
     "data": {
      "text/html": [
       "<div>\n",
       "<style scoped>\n",
       "    .dataframe tbody tr th:only-of-type {\n",
       "        vertical-align: middle;\n",
       "    }\n",
       "\n",
       "    .dataframe tbody tr th {\n",
       "        vertical-align: top;\n",
       "    }\n",
       "\n",
       "    .dataframe thead th {\n",
       "        text-align: right;\n",
       "    }\n",
       "</style>\n",
       "<table border=\"1\" class=\"dataframe\">\n",
       "  <thead>\n",
       "    <tr style=\"text-align: right;\">\n",
       "      <th></th>\n",
       "      <th>Unnamed: 0</th>\n",
       "      <th>user_id</th>\n",
       "      <th>location</th>\n",
       "      <th>age</th>\n",
       "      <th>isbn</th>\n",
       "      <th>rating</th>\n",
       "      <th>book_title</th>\n",
       "      <th>book_author</th>\n",
       "      <th>year_of_publication</th>\n",
       "      <th>publisher</th>\n",
       "      <th>img_s</th>\n",
       "      <th>img_m</th>\n",
       "      <th>img_l</th>\n",
       "      <th>Summary</th>\n",
       "      <th>Language</th>\n",
       "      <th>Category</th>\n",
       "      <th>city</th>\n",
       "      <th>state</th>\n",
       "      <th>country</th>\n",
       "    </tr>\n",
       "  </thead>\n",
       "  <tbody>\n",
       "    <tr>\n",
       "      <th>0</th>\n",
       "      <td>0</td>\n",
       "      <td>2</td>\n",
       "      <td>stockton, california, usa</td>\n",
       "      <td>18.0000</td>\n",
       "      <td>0195153448</td>\n",
       "      <td>0</td>\n",
       "      <td>Classical Mythology</td>\n",
       "      <td>Mark P. O. Morford</td>\n",
       "      <td>2002.0</td>\n",
       "      <td>Oxford University Press</td>\n",
       "      <td>http://images.amazon.com/images/P/0195153448.0...</td>\n",
       "      <td>http://images.amazon.com/images/P/0195153448.0...</td>\n",
       "      <td>http://images.amazon.com/images/P/0195153448.0...</td>\n",
       "      <td>Provides an introduction to classical myths pl...</td>\n",
       "      <td>en</td>\n",
       "      <td>['Social Science']</td>\n",
       "      <td>stockton</td>\n",
       "      <td>california</td>\n",
       "      <td>usa</td>\n",
       "    </tr>\n",
       "    <tr>\n",
       "      <th>1</th>\n",
       "      <td>1</td>\n",
       "      <td>8</td>\n",
       "      <td>timmins, ontario, canada</td>\n",
       "      <td>34.7439</td>\n",
       "      <td>0002005018</td>\n",
       "      <td>5</td>\n",
       "      <td>Clara Callan</td>\n",
       "      <td>Richard Bruce Wright</td>\n",
       "      <td>2001.0</td>\n",
       "      <td>HarperFlamingo Canada</td>\n",
       "      <td>http://images.amazon.com/images/P/0002005018.0...</td>\n",
       "      <td>http://images.amazon.com/images/P/0002005018.0...</td>\n",
       "      <td>http://images.amazon.com/images/P/0002005018.0...</td>\n",
       "      <td>In a small town in Canada, Clara Callan reluct...</td>\n",
       "      <td>en</td>\n",
       "      <td>['Actresses']</td>\n",
       "      <td>timmins</td>\n",
       "      <td>ontario</td>\n",
       "      <td>canada</td>\n",
       "    </tr>\n",
       "    <tr>\n",
       "      <th>2</th>\n",
       "      <td>2</td>\n",
       "      <td>11400</td>\n",
       "      <td>ottawa, ontario, canada</td>\n",
       "      <td>49.0000</td>\n",
       "      <td>0002005018</td>\n",
       "      <td>0</td>\n",
       "      <td>Clara Callan</td>\n",
       "      <td>Richard Bruce Wright</td>\n",
       "      <td>2001.0</td>\n",
       "      <td>HarperFlamingo Canada</td>\n",
       "      <td>http://images.amazon.com/images/P/0002005018.0...</td>\n",
       "      <td>http://images.amazon.com/images/P/0002005018.0...</td>\n",
       "      <td>http://images.amazon.com/images/P/0002005018.0...</td>\n",
       "      <td>In a small town in Canada, Clara Callan reluct...</td>\n",
       "      <td>en</td>\n",
       "      <td>['Actresses']</td>\n",
       "      <td>ottawa</td>\n",
       "      <td>ontario</td>\n",
       "      <td>canada</td>\n",
       "    </tr>\n",
       "  </tbody>\n",
       "</table>\n",
       "</div>"
      ],
      "text/plain": [
       "   Unnamed: 0  user_id                   location      age        isbn  \\\n",
       "0           0        2  stockton, california, usa  18.0000  0195153448   \n",
       "1           1        8   timmins, ontario, canada  34.7439  0002005018   \n",
       "2           2    11400    ottawa, ontario, canada  49.0000  0002005018   \n",
       "\n",
       "   rating           book_title           book_author  year_of_publication  \\\n",
       "0       0  Classical Mythology    Mark P. O. Morford               2002.0   \n",
       "1       5         Clara Callan  Richard Bruce Wright               2001.0   \n",
       "2       0         Clara Callan  Richard Bruce Wright               2001.0   \n",
       "\n",
       "                 publisher                                              img_s  \\\n",
       "0  Oxford University Press  http://images.amazon.com/images/P/0195153448.0...   \n",
       "1    HarperFlamingo Canada  http://images.amazon.com/images/P/0002005018.0...   \n",
       "2    HarperFlamingo Canada  http://images.amazon.com/images/P/0002005018.0...   \n",
       "\n",
       "                                               img_m  \\\n",
       "0  http://images.amazon.com/images/P/0195153448.0...   \n",
       "1  http://images.amazon.com/images/P/0002005018.0...   \n",
       "2  http://images.amazon.com/images/P/0002005018.0...   \n",
       "\n",
       "                                               img_l  \\\n",
       "0  http://images.amazon.com/images/P/0195153448.0...   \n",
       "1  http://images.amazon.com/images/P/0002005018.0...   \n",
       "2  http://images.amazon.com/images/P/0002005018.0...   \n",
       "\n",
       "                                             Summary Language  \\\n",
       "0  Provides an introduction to classical myths pl...       en   \n",
       "1  In a small town in Canada, Clara Callan reluct...       en   \n",
       "2  In a small town in Canada, Clara Callan reluct...       en   \n",
       "\n",
       "             Category      city       state country  \n",
       "0  ['Social Science']  stockton  california     usa  \n",
       "1       ['Actresses']   timmins     ontario  canada  \n",
       "2       ['Actresses']    ottawa     ontario  canada  "
      ]
     },
     "execution_count": 48,
     "metadata": {},
     "output_type": "execute_result"
    }
   ],
   "source": [
    "# Load the data\n",
    "prepro_data = pd.read_csv(\"/kaggle/input/bookcrossing-dataset/Books Data with Category Language and Summary/Preprocessed_data.csv\")\n",
    "\n",
    "prepro_data.head(3)"
   ]
  },
  {
   "cell_type": "code",
   "execution_count": 49,
   "metadata": {
    "execution": {
     "iopub.execute_input": "2025-02-28T18:12:50.449526Z",
     "iopub.status.busy": "2025-02-28T18:12:50.449253Z",
     "iopub.status.idle": "2025-02-28T18:12:50.472226Z",
     "shell.execute_reply": "2025-02-28T18:12:50.471643Z",
     "shell.execute_reply.started": "2025-02-28T18:12:50.449503Z"
    },
    "trusted": true
   },
   "outputs": [],
   "source": [
    "# Drop unnecessary columns\n",
    "new_book = prepro_data.drop(columns=['Unnamed: 0', 'location', 'age', 'year_of_publication', 'publisher', 'img_s', 'img_l',\n",
    "                                     'img_m','Summary', 'Language', 'city', 'state', 'country','user_id','isbn','rating'])\n"
   ]
  },
  {
   "cell_type": "code",
   "execution_count": 50,
   "metadata": {
    "execution": {
     "iopub.execute_input": "2025-02-28T18:12:57.533184Z",
     "iopub.status.busy": "2025-02-28T18:12:57.532905Z",
     "iopub.status.idle": "2025-02-28T18:12:57.541164Z",
     "shell.execute_reply": "2025-02-28T18:12:57.540322Z",
     "shell.execute_reply.started": "2025-02-28T18:12:57.533164Z"
    },
    "trusted": true
   },
   "outputs": [
    {
     "data": {
      "text/html": [
       "<div>\n",
       "<style scoped>\n",
       "    .dataframe tbody tr th:only-of-type {\n",
       "        vertical-align: middle;\n",
       "    }\n",
       "\n",
       "    .dataframe tbody tr th {\n",
       "        vertical-align: top;\n",
       "    }\n",
       "\n",
       "    .dataframe thead th {\n",
       "        text-align: right;\n",
       "    }\n",
       "</style>\n",
       "<table border=\"1\" class=\"dataframe\">\n",
       "  <thead>\n",
       "    <tr style=\"text-align: right;\">\n",
       "      <th></th>\n",
       "      <th>book_title</th>\n",
       "      <th>book_author</th>\n",
       "      <th>Category</th>\n",
       "    </tr>\n",
       "  </thead>\n",
       "  <tbody>\n",
       "    <tr>\n",
       "      <th>0</th>\n",
       "      <td>Classical Mythology</td>\n",
       "      <td>Mark P. O. Morford</td>\n",
       "      <td>['Social Science']</td>\n",
       "    </tr>\n",
       "    <tr>\n",
       "      <th>1</th>\n",
       "      <td>Clara Callan</td>\n",
       "      <td>Richard Bruce Wright</td>\n",
       "      <td>['Actresses']</td>\n",
       "    </tr>\n",
       "    <tr>\n",
       "      <th>2</th>\n",
       "      <td>Clara Callan</td>\n",
       "      <td>Richard Bruce Wright</td>\n",
       "      <td>['Actresses']</td>\n",
       "    </tr>\n",
       "  </tbody>\n",
       "</table>\n",
       "</div>"
      ],
      "text/plain": [
       "            book_title           book_author            Category\n",
       "0  Classical Mythology    Mark P. O. Morford  ['Social Science']\n",
       "1         Clara Callan  Richard Bruce Wright       ['Actresses']\n",
       "2         Clara Callan  Richard Bruce Wright       ['Actresses']"
      ]
     },
     "execution_count": 50,
     "metadata": {},
     "output_type": "execute_result"
    }
   ],
   "source": [
    "new_book.head(3)"
   ]
  },
  {
   "cell_type": "code",
   "execution_count": 51,
   "metadata": {
    "execution": {
     "iopub.execute_input": "2025-02-28T18:13:01.879037Z",
     "iopub.status.busy": "2025-02-28T18:13:01.878751Z",
     "iopub.status.idle": "2025-02-28T18:13:02.010864Z",
     "shell.execute_reply": "2025-02-28T18:13:02.010084Z",
     "shell.execute_reply.started": "2025-02-28T18:13:01.879015Z"
    },
    "trusted": true
   },
   "outputs": [
    {
     "data": {
      "text/plain": [
       "book_title     0\n",
       "book_author    1\n",
       "Category       0\n",
       "dtype: int64"
      ]
     },
     "execution_count": 51,
     "metadata": {},
     "output_type": "execute_result"
    }
   ],
   "source": [
    "new_book.isnull().sum()"
   ]
  },
  {
   "cell_type": "code",
   "execution_count": 52,
   "metadata": {
    "execution": {
     "iopub.execute_input": "2025-02-28T18:13:04.550462Z",
     "iopub.status.busy": "2025-02-28T18:13:04.550134Z",
     "iopub.status.idle": "2025-02-28T18:13:04.838731Z",
     "shell.execute_reply": "2025-02-28T18:13:04.837994Z",
     "shell.execute_reply.started": "2025-02-28T18:13:04.550436Z"
    },
    "trusted": true
   },
   "outputs": [
    {
     "data": {
      "text/plain": [
       "771338"
      ]
     },
     "execution_count": 52,
     "metadata": {},
     "output_type": "execute_result"
    }
   ],
   "source": [
    "new_book.duplicated().sum()"
   ]
  },
  {
   "cell_type": "code",
   "execution_count": 53,
   "metadata": {
    "execution": {
     "iopub.execute_input": "2025-02-28T18:13:05.832615Z",
     "iopub.status.busy": "2025-02-28T18:13:05.832345Z",
     "iopub.status.idle": "2025-02-28T18:13:05.837676Z",
     "shell.execute_reply": "2025-02-28T18:13:05.836803Z",
     "shell.execute_reply.started": "2025-02-28T18:13:05.832595Z"
    },
    "trusted": true
   },
   "outputs": [
    {
     "data": {
      "text/plain": [
       "(1031175, 3)"
      ]
     },
     "execution_count": 53,
     "metadata": {},
     "output_type": "execute_result"
    }
   ],
   "source": [
    "new_book.shape"
   ]
  },
  {
   "cell_type": "code",
   "execution_count": 54,
   "metadata": {
    "execution": {
     "iopub.execute_input": "2025-02-28T18:13:08.883512Z",
     "iopub.status.busy": "2025-02-28T18:13:08.883205Z",
     "iopub.status.idle": "2025-02-28T18:13:08.951149Z",
     "shell.execute_reply": "2025-02-28T18:13:08.950503Z",
     "shell.execute_reply.started": "2025-02-28T18:13:08.883489Z"
    },
    "trusted": true
   },
   "outputs": [],
   "source": [
    "# Handle missing data\n",
    "new_book['book_author'] = new_book['book_author'].fillna('Unknown')"
   ]
  },
  {
   "cell_type": "code",
   "execution_count": 55,
   "metadata": {
    "execution": {
     "iopub.execute_input": "2025-02-28T18:13:12.161678Z",
     "iopub.status.busy": "2025-02-28T18:13:12.161350Z",
     "iopub.status.idle": "2025-02-28T18:13:12.170107Z",
     "shell.execute_reply": "2025-02-28T18:13:12.169115Z",
     "shell.execute_reply.started": "2025-02-28T18:13:12.161650Z"
    },
    "trusted": true
   },
   "outputs": [
    {
     "data": {
      "text/html": [
       "<div>\n",
       "<style scoped>\n",
       "    .dataframe tbody tr th:only-of-type {\n",
       "        vertical-align: middle;\n",
       "    }\n",
       "\n",
       "    .dataframe tbody tr th {\n",
       "        vertical-align: top;\n",
       "    }\n",
       "\n",
       "    .dataframe thead th {\n",
       "        text-align: right;\n",
       "    }\n",
       "</style>\n",
       "<table border=\"1\" class=\"dataframe\">\n",
       "  <thead>\n",
       "    <tr style=\"text-align: right;\">\n",
       "      <th></th>\n",
       "      <th>book_title</th>\n",
       "      <th>book_author</th>\n",
       "      <th>Category</th>\n",
       "    </tr>\n",
       "  </thead>\n",
       "  <tbody>\n",
       "    <tr>\n",
       "      <th>0</th>\n",
       "      <td>Classical Mythology</td>\n",
       "      <td>Mark P. O. Morford</td>\n",
       "      <td>['Social Science']</td>\n",
       "    </tr>\n",
       "    <tr>\n",
       "      <th>1</th>\n",
       "      <td>Clara Callan</td>\n",
       "      <td>Richard Bruce Wright</td>\n",
       "      <td>['Actresses']</td>\n",
       "    </tr>\n",
       "    <tr>\n",
       "      <th>2</th>\n",
       "      <td>Clara Callan</td>\n",
       "      <td>Richard Bruce Wright</td>\n",
       "      <td>['Actresses']</td>\n",
       "    </tr>\n",
       "  </tbody>\n",
       "</table>\n",
       "</div>"
      ],
      "text/plain": [
       "            book_title           book_author            Category\n",
       "0  Classical Mythology    Mark P. O. Morford  ['Social Science']\n",
       "1         Clara Callan  Richard Bruce Wright       ['Actresses']\n",
       "2         Clara Callan  Richard Bruce Wright       ['Actresses']"
      ]
     },
     "execution_count": 55,
     "metadata": {},
     "output_type": "execute_result"
    }
   ],
   "source": [
    "new_book.head(3)"
   ]
  },
  {
   "cell_type": "code",
   "execution_count": 56,
   "metadata": {
    "execution": {
     "iopub.execute_input": "2025-02-28T18:13:17.697375Z",
     "iopub.status.busy": "2025-02-28T18:13:17.697041Z",
     "iopub.status.idle": "2025-02-28T18:13:17.813970Z",
     "shell.execute_reply": "2025-02-28T18:13:17.813265Z",
     "shell.execute_reply.started": "2025-02-28T18:13:17.697349Z"
    },
    "trusted": true
   },
   "outputs": [
    {
     "data": {
      "text/plain": [
       "241090"
      ]
     },
     "execution_count": 56,
     "metadata": {},
     "output_type": "execute_result"
    }
   ],
   "source": [
    "check = new_book['book_title'].nunique()\n",
    "check"
   ]
  },
  {
   "cell_type": "code",
   "execution_count": 57,
   "metadata": {
    "execution": {
     "iopub.execute_input": "2025-02-28T18:13:20.288018Z",
     "iopub.status.busy": "2025-02-28T18:13:20.287725Z",
     "iopub.status.idle": "2025-02-28T18:13:20.291631Z",
     "shell.execute_reply": "2025-02-28T18:13:20.290866Z",
     "shell.execute_reply.started": "2025-02-28T18:13:20.287996Z"
    },
    "trusted": true
   },
   "outputs": [],
   "source": [
    "# let's apply regex to make thing simple\n",
    "#let's clean the book title\n",
    "def clean_book_title(title):\n",
    "    return re.sub(\"[^a-zA-Z0-9 ]\", \"\",title)"
   ]
  },
  {
   "cell_type": "code",
   "execution_count": 58,
   "metadata": {
    "execution": {
     "iopub.execute_input": "2025-02-28T18:13:21.631524Z",
     "iopub.status.busy": "2025-02-28T18:13:21.631179Z",
     "iopub.status.idle": "2025-02-28T18:13:22.955711Z",
     "shell.execute_reply": "2025-02-28T18:13:22.954668Z",
     "shell.execute_reply.started": "2025-02-28T18:13:21.631497Z"
    },
    "trusted": true
   },
   "outputs": [],
   "source": [
    "new_book['clean_book_title'] = new_book['book_title'].apply(clean_book_title)"
   ]
  },
  {
   "cell_type": "code",
   "execution_count": 59,
   "metadata": {
    "execution": {
     "iopub.execute_input": "2025-02-28T18:13:25.502939Z",
     "iopub.status.busy": "2025-02-28T18:13:25.502665Z",
     "iopub.status.idle": "2025-02-28T18:13:25.512922Z",
     "shell.execute_reply": "2025-02-28T18:13:25.512017Z",
     "shell.execute_reply.started": "2025-02-28T18:13:25.502919Z"
    },
    "trusted": true
   },
   "outputs": [
    {
     "data": {
      "text/html": [
       "<div>\n",
       "<style scoped>\n",
       "    .dataframe tbody tr th:only-of-type {\n",
       "        vertical-align: middle;\n",
       "    }\n",
       "\n",
       "    .dataframe tbody tr th {\n",
       "        vertical-align: top;\n",
       "    }\n",
       "\n",
       "    .dataframe thead th {\n",
       "        text-align: right;\n",
       "    }\n",
       "</style>\n",
       "<table border=\"1\" class=\"dataframe\">\n",
       "  <thead>\n",
       "    <tr style=\"text-align: right;\">\n",
       "      <th></th>\n",
       "      <th>book_title</th>\n",
       "      <th>book_author</th>\n",
       "      <th>Category</th>\n",
       "      <th>clean_book_title</th>\n",
       "    </tr>\n",
       "  </thead>\n",
       "  <tbody>\n",
       "    <tr>\n",
       "      <th>0</th>\n",
       "      <td>Classical Mythology</td>\n",
       "      <td>Mark P. O. Morford</td>\n",
       "      <td>['Social Science']</td>\n",
       "      <td>Classical Mythology</td>\n",
       "    </tr>\n",
       "    <tr>\n",
       "      <th>1</th>\n",
       "      <td>Clara Callan</td>\n",
       "      <td>Richard Bruce Wright</td>\n",
       "      <td>['Actresses']</td>\n",
       "      <td>Clara Callan</td>\n",
       "    </tr>\n",
       "    <tr>\n",
       "      <th>2</th>\n",
       "      <td>Clara Callan</td>\n",
       "      <td>Richard Bruce Wright</td>\n",
       "      <td>['Actresses']</td>\n",
       "      <td>Clara Callan</td>\n",
       "    </tr>\n",
       "    <tr>\n",
       "      <th>3</th>\n",
       "      <td>Clara Callan</td>\n",
       "      <td>Richard Bruce Wright</td>\n",
       "      <td>['Actresses']</td>\n",
       "      <td>Clara Callan</td>\n",
       "    </tr>\n",
       "    <tr>\n",
       "      <th>4</th>\n",
       "      <td>Clara Callan</td>\n",
       "      <td>Richard Bruce Wright</td>\n",
       "      <td>['Actresses']</td>\n",
       "      <td>Clara Callan</td>\n",
       "    </tr>\n",
       "    <tr>\n",
       "      <th>...</th>\n",
       "      <td>...</td>\n",
       "      <td>...</td>\n",
       "      <td>...</td>\n",
       "      <td>...</td>\n",
       "    </tr>\n",
       "    <tr>\n",
       "      <th>1031170</th>\n",
       "      <td>As Hogan Said . . . : The 389 Best Things Anyo...</td>\n",
       "      <td>Randy Voorhees</td>\n",
       "      <td>['Humor']</td>\n",
       "      <td>As Hogan Said     The 389 Best Things Anyone S...</td>\n",
       "    </tr>\n",
       "    <tr>\n",
       "      <th>1031171</th>\n",
       "      <td>All Elevations Unknown: An Adventure in the He...</td>\n",
       "      <td>Sam Lightner</td>\n",
       "      <td>['Nature']</td>\n",
       "      <td>All Elevations Unknown An Adventure in the Hea...</td>\n",
       "    </tr>\n",
       "    <tr>\n",
       "      <th>1031172</th>\n",
       "      <td>Why stop?: A guide to Texas historical roadsid...</td>\n",
       "      <td>Claude Dooley</td>\n",
       "      <td>9</td>\n",
       "      <td>Why stop A guide to Texas historical roadside ...</td>\n",
       "    </tr>\n",
       "    <tr>\n",
       "      <th>1031173</th>\n",
       "      <td>The Are You Being Served? Stories: 'Camping In...</td>\n",
       "      <td>Jeremy Lloyd</td>\n",
       "      <td>['Fiction']</td>\n",
       "      <td>The Are You Being Served Stories Camping In an...</td>\n",
       "    </tr>\n",
       "    <tr>\n",
       "      <th>1031174</th>\n",
       "      <td>Dallas Street Map Guide and Directory, 2000 Ed...</td>\n",
       "      <td>Mapsco</td>\n",
       "      <td>9</td>\n",
       "      <td>Dallas Street Map Guide and Directory 2000 Edi...</td>\n",
       "    </tr>\n",
       "  </tbody>\n",
       "</table>\n",
       "<p>1031175 rows × 4 columns</p>\n",
       "</div>"
      ],
      "text/plain": [
       "                                                book_title  \\\n",
       "0                                      Classical Mythology   \n",
       "1                                             Clara Callan   \n",
       "2                                             Clara Callan   \n",
       "3                                             Clara Callan   \n",
       "4                                             Clara Callan   \n",
       "...                                                    ...   \n",
       "1031170  As Hogan Said . . . : The 389 Best Things Anyo...   \n",
       "1031171  All Elevations Unknown: An Adventure in the He...   \n",
       "1031172  Why stop?: A guide to Texas historical roadsid...   \n",
       "1031173  The Are You Being Served? Stories: 'Camping In...   \n",
       "1031174  Dallas Street Map Guide and Directory, 2000 Ed...   \n",
       "\n",
       "                  book_author            Category  \\\n",
       "0          Mark P. O. Morford  ['Social Science']   \n",
       "1        Richard Bruce Wright       ['Actresses']   \n",
       "2        Richard Bruce Wright       ['Actresses']   \n",
       "3        Richard Bruce Wright       ['Actresses']   \n",
       "4        Richard Bruce Wright       ['Actresses']   \n",
       "...                       ...                 ...   \n",
       "1031170        Randy Voorhees           ['Humor']   \n",
       "1031171          Sam Lightner          ['Nature']   \n",
       "1031172         Claude Dooley                   9   \n",
       "1031173          Jeremy Lloyd         ['Fiction']   \n",
       "1031174                Mapsco                   9   \n",
       "\n",
       "                                          clean_book_title  \n",
       "0                                      Classical Mythology  \n",
       "1                                             Clara Callan  \n",
       "2                                             Clara Callan  \n",
       "3                                             Clara Callan  \n",
       "4                                             Clara Callan  \n",
       "...                                                    ...  \n",
       "1031170  As Hogan Said     The 389 Best Things Anyone S...  \n",
       "1031171  All Elevations Unknown An Adventure in the Hea...  \n",
       "1031172  Why stop A guide to Texas historical roadside ...  \n",
       "1031173  The Are You Being Served Stories Camping In an...  \n",
       "1031174  Dallas Street Map Guide and Directory 2000 Edi...  \n",
       "\n",
       "[1031175 rows x 4 columns]"
      ]
     },
     "execution_count": 59,
     "metadata": {},
     "output_type": "execute_result"
    }
   ],
   "source": [
    "new_book"
   ]
  },
  {
   "cell_type": "code",
   "execution_count": 60,
   "metadata": {
    "execution": {
     "iopub.execute_input": "2025-02-28T18:13:29.790072Z",
     "iopub.status.busy": "2025-02-28T18:13:29.789760Z",
     "iopub.status.idle": "2025-02-28T18:13:30.041728Z",
     "shell.execute_reply": "2025-02-28T18:13:30.041058Z",
     "shell.execute_reply.started": "2025-02-28T18:13:29.790046Z"
    },
    "trusted": true
   },
   "outputs": [],
   "source": [
    "new_unique_book = new_book.drop_duplicates(subset=['clean_book_title','book_author'])\n",
    "\n",
    "new_unique_book = new_unique_book.drop(columns= ['book_title'])"
   ]
  },
  {
   "cell_type": "code",
   "execution_count": 61,
   "metadata": {
    "execution": {
     "iopub.execute_input": "2025-02-28T18:13:31.414375Z",
     "iopub.status.busy": "2025-02-28T18:13:31.414069Z",
     "iopub.status.idle": "2025-02-28T18:13:31.423435Z",
     "shell.execute_reply": "2025-02-28T18:13:31.422667Z",
     "shell.execute_reply.started": "2025-02-28T18:13:31.414351Z"
    },
    "trusted": true
   },
   "outputs": [
    {
     "data": {
      "text/html": [
       "<div>\n",
       "<style scoped>\n",
       "    .dataframe tbody tr th:only-of-type {\n",
       "        vertical-align: middle;\n",
       "    }\n",
       "\n",
       "    .dataframe tbody tr th {\n",
       "        vertical-align: top;\n",
       "    }\n",
       "\n",
       "    .dataframe thead th {\n",
       "        text-align: right;\n",
       "    }\n",
       "</style>\n",
       "<table border=\"1\" class=\"dataframe\">\n",
       "  <thead>\n",
       "    <tr style=\"text-align: right;\">\n",
       "      <th></th>\n",
       "      <th>book_author</th>\n",
       "      <th>Category</th>\n",
       "      <th>clean_book_title</th>\n",
       "    </tr>\n",
       "  </thead>\n",
       "  <tbody>\n",
       "    <tr>\n",
       "      <th>0</th>\n",
       "      <td>Mark P. O. Morford</td>\n",
       "      <td>['Social Science']</td>\n",
       "      <td>Classical Mythology</td>\n",
       "    </tr>\n",
       "    <tr>\n",
       "      <th>1</th>\n",
       "      <td>Richard Bruce Wright</td>\n",
       "      <td>['Actresses']</td>\n",
       "      <td>Clara Callan</td>\n",
       "    </tr>\n",
       "    <tr>\n",
       "      <th>15</th>\n",
       "      <td>Carlo D'Este</td>\n",
       "      <td>['1940-1949']</td>\n",
       "      <td>Decision in Normandy</td>\n",
       "    </tr>\n",
       "    <tr>\n",
       "      <th>18</th>\n",
       "      <td>Gina Bari Kolata</td>\n",
       "      <td>['Medical']</td>\n",
       "      <td>Flu The Story of the Great Influenza Pandemic ...</td>\n",
       "    </tr>\n",
       "    <tr>\n",
       "      <th>29</th>\n",
       "      <td>E. J. W. Barber</td>\n",
       "      <td>['Design']</td>\n",
       "      <td>The Mummies of Urumchi</td>\n",
       "    </tr>\n",
       "    <tr>\n",
       "      <th>...</th>\n",
       "      <td>...</td>\n",
       "      <td>...</td>\n",
       "      <td>...</td>\n",
       "    </tr>\n",
       "    <tr>\n",
       "      <th>1031170</th>\n",
       "      <td>Randy Voorhees</td>\n",
       "      <td>['Humor']</td>\n",
       "      <td>As Hogan Said     The 389 Best Things Anyone S...</td>\n",
       "    </tr>\n",
       "    <tr>\n",
       "      <th>1031171</th>\n",
       "      <td>Sam Lightner</td>\n",
       "      <td>['Nature']</td>\n",
       "      <td>All Elevations Unknown An Adventure in the Hea...</td>\n",
       "    </tr>\n",
       "    <tr>\n",
       "      <th>1031172</th>\n",
       "      <td>Claude Dooley</td>\n",
       "      <td>9</td>\n",
       "      <td>Why stop A guide to Texas historical roadside ...</td>\n",
       "    </tr>\n",
       "    <tr>\n",
       "      <th>1031173</th>\n",
       "      <td>Jeremy Lloyd</td>\n",
       "      <td>['Fiction']</td>\n",
       "      <td>The Are You Being Served Stories Camping In an...</td>\n",
       "    </tr>\n",
       "    <tr>\n",
       "      <th>1031174</th>\n",
       "      <td>Mapsco</td>\n",
       "      <td>9</td>\n",
       "      <td>Dallas Street Map Guide and Directory 2000 Edi...</td>\n",
       "    </tr>\n",
       "  </tbody>\n",
       "</table>\n",
       "<p>249364 rows × 3 columns</p>\n",
       "</div>"
      ],
      "text/plain": [
       "                  book_author            Category  \\\n",
       "0          Mark P. O. Morford  ['Social Science']   \n",
       "1        Richard Bruce Wright       ['Actresses']   \n",
       "15               Carlo D'Este       ['1940-1949']   \n",
       "18           Gina Bari Kolata         ['Medical']   \n",
       "29            E. J. W. Barber          ['Design']   \n",
       "...                       ...                 ...   \n",
       "1031170        Randy Voorhees           ['Humor']   \n",
       "1031171          Sam Lightner          ['Nature']   \n",
       "1031172         Claude Dooley                   9   \n",
       "1031173          Jeremy Lloyd         ['Fiction']   \n",
       "1031174                Mapsco                   9   \n",
       "\n",
       "                                          clean_book_title  \n",
       "0                                      Classical Mythology  \n",
       "1                                             Clara Callan  \n",
       "15                                    Decision in Normandy  \n",
       "18       Flu The Story of the Great Influenza Pandemic ...  \n",
       "29                                  The Mummies of Urumchi  \n",
       "...                                                    ...  \n",
       "1031170  As Hogan Said     The 389 Best Things Anyone S...  \n",
       "1031171  All Elevations Unknown An Adventure in the Hea...  \n",
       "1031172  Why stop A guide to Texas historical roadside ...  \n",
       "1031173  The Are You Being Served Stories Camping In an...  \n",
       "1031174  Dallas Street Map Guide and Directory 2000 Edi...  \n",
       "\n",
       "[249364 rows x 3 columns]"
      ]
     },
     "execution_count": 61,
     "metadata": {},
     "output_type": "execute_result"
    }
   ],
   "source": [
    "new_unique_book"
   ]
  },
  {
   "cell_type": "code",
   "execution_count": null,
   "metadata": {
    "execution": {
     "iopub.execute_input": "2025-02-28T18:13:44.250859Z",
     "iopub.status.busy": "2025-02-28T18:13:44.250574Z",
     "iopub.status.idle": "2025-02-28T18:13:44.271971Z",
     "shell.execute_reply": "2025-02-28T18:13:44.271312Z",
     "shell.execute_reply.started": "2025-02-28T18:13:44.250837Z"
    },
    "trusted": true
   },
   "outputs": [
    {
     "data": {
      "text/html": [
       "<div>\n",
       "<style scoped>\n",
       "    .dataframe tbody tr th:only-of-type {\n",
       "        vertical-align: middle;\n",
       "    }\n",
       "\n",
       "    .dataframe tbody tr th {\n",
       "        vertical-align: top;\n",
       "    }\n",
       "\n",
       "    .dataframe thead th {\n",
       "        text-align: right;\n",
       "    }\n",
       "</style>\n",
       "<table border=\"1\" class=\"dataframe\">\n",
       "  <thead>\n",
       "    <tr style=\"text-align: right;\">\n",
       "      <th></th>\n",
       "      <th>clean_book_title</th>\n",
       "      <th>Category</th>\n",
       "      <th>book_author</th>\n",
       "    </tr>\n",
       "  </thead>\n",
       "  <tbody>\n",
       "    <tr>\n",
       "      <th>0</th>\n",
       "      <td>Classical Mythology</td>\n",
       "      <td>['Social Science']</td>\n",
       "      <td>Mark P. O. Morford</td>\n",
       "    </tr>\n",
       "    <tr>\n",
       "      <th>1</th>\n",
       "      <td>Clara Callan</td>\n",
       "      <td>['Actresses']</td>\n",
       "      <td>Richard Bruce Wright</td>\n",
       "    </tr>\n",
       "    <tr>\n",
       "      <th>15</th>\n",
       "      <td>Decision in Normandy</td>\n",
       "      <td>['1940-1949']</td>\n",
       "      <td>Carlo D'Este</td>\n",
       "    </tr>\n",
       "    <tr>\n",
       "      <th>18</th>\n",
       "      <td>Flu The Story of the Great Influenza Pandemic ...</td>\n",
       "      <td>['Medical']</td>\n",
       "      <td>Gina Bari Kolata</td>\n",
       "    </tr>\n",
       "    <tr>\n",
       "      <th>29</th>\n",
       "      <td>The Mummies of Urumchi</td>\n",
       "      <td>['Design']</td>\n",
       "      <td>E. J. W. Barber</td>\n",
       "    </tr>\n",
       "    <tr>\n",
       "      <th>...</th>\n",
       "      <td>...</td>\n",
       "      <td>...</td>\n",
       "      <td>...</td>\n",
       "    </tr>\n",
       "    <tr>\n",
       "      <th>1031170</th>\n",
       "      <td>As Hogan Said     The 389 Best Things Anyone S...</td>\n",
       "      <td>['Humor']</td>\n",
       "      <td>Randy Voorhees</td>\n",
       "    </tr>\n",
       "    <tr>\n",
       "      <th>1031171</th>\n",
       "      <td>All Elevations Unknown An Adventure in the Hea...</td>\n",
       "      <td>['Nature']</td>\n",
       "      <td>Sam Lightner</td>\n",
       "    </tr>\n",
       "    <tr>\n",
       "      <th>1031172</th>\n",
       "      <td>Why stop A guide to Texas historical roadside ...</td>\n",
       "      <td>9</td>\n",
       "      <td>Claude Dooley</td>\n",
       "    </tr>\n",
       "    <tr>\n",
       "      <th>1031173</th>\n",
       "      <td>The Are You Being Served Stories Camping In an...</td>\n",
       "      <td>['Fiction']</td>\n",
       "      <td>Jeremy Lloyd</td>\n",
       "    </tr>\n",
       "    <tr>\n",
       "      <th>1031174</th>\n",
       "      <td>Dallas Street Map Guide and Directory 2000 Edi...</td>\n",
       "      <td>9</td>\n",
       "      <td>Mapsco</td>\n",
       "    </tr>\n",
       "  </tbody>\n",
       "</table>\n",
       "<p>249364 rows × 3 columns</p>\n",
       "</div>"
      ],
      "text/plain": [
       "                                          clean_book_title  \\\n",
       "0                                      Classical Mythology   \n",
       "1                                             Clara Callan   \n",
       "15                                    Decision in Normandy   \n",
       "18       Flu The Story of the Great Influenza Pandemic ...   \n",
       "29                                  The Mummies of Urumchi   \n",
       "...                                                    ...   \n",
       "1031170  As Hogan Said     The 389 Best Things Anyone S...   \n",
       "1031171  All Elevations Unknown An Adventure in the Hea...   \n",
       "1031172  Why stop A guide to Texas historical roadside ...   \n",
       "1031173  The Are You Being Served Stories Camping In an...   \n",
       "1031174  Dallas Street Map Guide and Directory 2000 Edi...   \n",
       "\n",
       "                   Category           book_author  \n",
       "0        ['Social Science']    Mark P. O. Morford  \n",
       "1             ['Actresses']  Richard Bruce Wright  \n",
       "15            ['1940-1949']          Carlo D'Este  \n",
       "18              ['Medical']      Gina Bari Kolata  \n",
       "29               ['Design']       E. J. W. Barber  \n",
       "...                     ...                   ...  \n",
       "1031170           ['Humor']        Randy Voorhees  \n",
       "1031171          ['Nature']          Sam Lightner  \n",
       "1031172                   9         Claude Dooley  \n",
       "1031173         ['Fiction']          Jeremy Lloyd  \n",
       "1031174                   9                Mapsco  \n",
       "\n",
       "[249364 rows x 3 columns]"
      ]
     },
     "execution_count": 62,
     "metadata": {},
     "output_type": "execute_result"
    }
   ],
   "source": [
    "new_unique_book = new_unique_book[['clean_book_title', 'Category', 'book_author']]\n",
    "\n",
    "new_unique_book"
   ]
  },
  {
   "cell_type": "code",
   "execution_count": 63,
   "metadata": {
    "execution": {
     "iopub.execute_input": "2025-02-28T18:13:50.392587Z",
     "iopub.status.busy": "2025-02-28T18:13:50.392270Z",
     "iopub.status.idle": "2025-02-28T18:13:54.866065Z",
     "shell.execute_reply": "2025-02-28T18:13:54.865403Z",
     "shell.execute_reply.started": "2025-02-28T18:13:50.392562Z"
    },
    "trusted": true
   },
   "outputs": [],
   "source": [
    "\n",
    "vectorizer = TfidfVectorizer(ngram_range= (1,2))\n",
    "tfidf = vectorizer.fit_transform(new_unique_book['clean_book_title'])\n"
   ]
  },
  {
   "cell_type": "code",
   "execution_count": 64,
   "metadata": {
    "execution": {
     "iopub.execute_input": "2025-02-28T18:13:57.553102Z",
     "iopub.status.busy": "2025-02-28T18:13:57.552816Z",
     "iopub.status.idle": "2025-02-28T18:13:57.557508Z",
     "shell.execute_reply": "2025-02-28T18:13:57.556575Z",
     "shell.execute_reply.started": "2025-02-28T18:13:57.553081Z"
    },
    "trusted": true
   },
   "outputs": [],
   "source": [
    "\"\"\"now let's apply cosine similarity\"\"\"\n",
    "\n",
    "def search(title):\n",
    "    title = clean_book_title(title)\n",
    "    query_vector= vectorizer.transform([title])\n",
    "\n",
    "    similarity = cosine_similarity(query_vector,tfidf).flatten()\n",
    " \n",
    "    indicies = np.argpartition(similarity, -10)[-10:]\n",
    "\n",
    "    result= new_unique_book.iloc[indicies][::-1]\n",
    "    return result"
   ]
  },
  {
   "cell_type": "code",
   "execution_count": 65,
   "metadata": {
    "execution": {
     "iopub.execute_input": "2025-02-28T18:14:00.608850Z",
     "iopub.status.busy": "2025-02-28T18:14:00.608526Z",
     "iopub.status.idle": "2025-02-28T18:14:00.620458Z",
     "shell.execute_reply": "2025-02-28T18:14:00.619501Z",
     "shell.execute_reply.started": "2025-02-28T18:14:00.608822Z"
    },
    "trusted": true
   },
   "outputs": [
    {
     "data": {
      "application/vnd.jupyter.widget-view+json": {
       "model_id": "d8e4d191424d4687b9c3c3101f476763",
       "version_major": 2,
       "version_minor": 0
      },
      "text/plain": [
       "Text(value='Harry Potter', description='Book Title')"
      ]
     },
     "metadata": {},
     "output_type": "display_data"
    },
    {
     "data": {
      "application/vnd.jupyter.widget-view+json": {
       "model_id": "ee27388c974b4506aa299c9985e53aae",
       "version_major": 2,
       "version_minor": 0
      },
      "text/plain": [
       "Output()"
      ]
     },
     "metadata": {},
     "output_type": "display_data"
    }
   ],
   "source": [
    "\n",
    "book_input = widgets.Text(value = 'Harry Potter', description='Book Title',disable = False)\n",
    "\n",
    "book_list = widgets.Output()\n",
    "\n",
    "def on_type(data):\n",
    "    with book_list:\n",
    "        book_list.clear_output()\n",
    "        title = data[\"new\"]\n",
    "        if len(title)>4:\n",
    "            display(search(title))\n",
    "\n",
    "book_input.observe(on_type,names = 'value')\n",
    "display(book_input,book_list)"
   ]
  }
 ],
 "metadata": {
  "colab": {
   "provenance": []
  },
  "kaggle": {
   "accelerator": "nvidiaTeslaT4",
   "dataSources": [
    {
     "datasetId": 825851,
     "sourceId": 1950576,
     "sourceType": "datasetVersion"
    }
   ],
   "dockerImageVersionId": 30918,
   "isGpuEnabled": true,
   "isInternetEnabled": true,
   "language": "python",
   "sourceType": "notebook"
  },
  "kernelspec": {
   "display_name": "Python 3",
   "language": "python",
   "name": "python3"
  },
  "language_info": {
   "codemirror_mode": {
    "name": "ipython",
    "version": 3
   },
   "file_extension": ".py",
   "mimetype": "text/x-python",
   "name": "python",
   "nbconvert_exporter": "python",
   "pygments_lexer": "ipython3",
   "version": "3.10.12"
  }
 },
 "nbformat": 4,
 "nbformat_minor": 4
}
